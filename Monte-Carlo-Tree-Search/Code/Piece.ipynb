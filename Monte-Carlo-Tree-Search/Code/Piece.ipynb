{
 "cells": [
  {
   "cell_type": "code",
   "execution_count": 1,
   "id": "dbcd14cc-c5f8-4352-8b1b-ed7482244a3e",
   "metadata": {},
   "outputs": [],
   "source": [
    "#piece class"
   ]
  },
  {
   "cell_type": "code",
   "execution_count": 2,
   "id": "0abd35b0-dde2-434f-95a5-da8108659f32",
   "metadata": {},
   "outputs": [],
   "source": [
    "class Piece:\n",
    "\n",
    "    def __init__(self, name, color, value, texture=None, texture_rect=None):\n",
    "        self.name = name\n",
    "        self.color = color\n",
    "        value_sign = 1 if color == 'white' else -1\n",
    "        self.value = value * value_sign\n",
    "        self.moves = []\n",
    "        self.moved = False\n",
    "        self.texture = texture\n",
    "        self.set_texture()\n",
    "        self.texture_rect = texture_rect"
   ]
  },
  {
   "cell_type": "code",
   "execution_count": 3,
   "id": "f8f559ce-c50a-4a83-892e-90535070f68b",
   "metadata": {},
   "outputs": [],
   "source": [
    "#find and assign texture"
   ]
  },
  {
   "cell_type": "code",
   "execution_count": 4,
   "id": "cd45e19b-ba2b-4007-bae3-307ada088569",
   "metadata": {},
   "outputs": [],
   "source": [
    "def set_texture(self, size=80):\n",
    "        self.texture = os.path.join(\n",
    "            f'assets/images/imgs-{size}px/{self.color}_{self.name}.png')"
   ]
  },
  {
   "cell_type": "code",
   "execution_count": 5,
   "id": "fbf3e9dd-98a9-4ed8-bfe0-b98fa684d28d",
   "metadata": {},
   "outputs": [],
   "source": [
    "#draw available piece moves"
   ]
  },
  {
   "cell_type": "code",
   "execution_count": 6,
   "id": "e9dbe844-4da5-46cb-b294-1a664af31ff8",
   "metadata": {},
   "outputs": [],
   "source": [
    "def add_moves(self, move):\n",
    "        self.moves.append(move)"
   ]
  },
  {
   "cell_type": "code",
   "execution_count": 7,
   "id": "94fcc6a5-8b86-4b41-b936-db8482d3eca3",
   "metadata": {},
   "outputs": [],
   "source": [
    "#Pawn class"
   ]
  },
  {
   "cell_type": "code",
   "execution_count": 8,
   "id": "2b00f7fe-37dc-4899-b459-46a3330ebc9f",
   "metadata": {},
   "outputs": [],
   "source": [
    "class Pawn(Piece):\n",
    "\n",
    "    def __init__(self, color):\n",
    "        self.dir = -1 if color == 'white' else 1\n",
    "        super().__init__('pawn', color, 1.0)"
   ]
  },
  {
   "cell_type": "code",
   "execution_count": 9,
   "id": "d1ad1911-bddd-48dd-b5e2-5d8f7a6fea9f",
   "metadata": {},
   "outputs": [],
   "source": [
    "#knight class"
   ]
  },
  {
   "cell_type": "code",
   "execution_count": 10,
   "id": "9c9fb0a9-98e1-4559-a5ff-605aeee1fbbe",
   "metadata": {},
   "outputs": [],
   "source": [
    "class Knight(Piece):\n",
    "    def __init__(self, color):\n",
    "        super().__init__('knight', color, 3.0)"
   ]
  },
  {
   "cell_type": "code",
   "execution_count": 11,
   "id": "d2e73b90-5d03-4746-8436-2b20cf386c89",
   "metadata": {},
   "outputs": [],
   "source": [
    "#bishop class"
   ]
  },
  {
   "cell_type": "code",
   "execution_count": null,
   "id": "57ff5d33-aef0-4f19-8292-da68bda810c7",
   "metadata": {},
   "outputs": [],
   "source": [
    "class Bishop(Piece):\n",
    "    def __init__(self, color):\n",
    "        super().__init__('bishop', color, 3.0)"
   ]
  },
  {
   "cell_type": "code",
   "execution_count": 12,
   "id": "0ffd36e9-daae-43ff-9a6c-fd68af454158",
   "metadata": {},
   "outputs": [],
   "source": [
    "#rook class"
   ]
  },
  {
   "cell_type": "code",
   "execution_count": null,
   "id": "d45d4b2b-6df0-464a-a443-54f571e778c7",
   "metadata": {},
   "outputs": [],
   "source": [
    "class Rook(Piece):\n",
    "    def __init__(self, color):\n",
    "        super().__init__('rook', color, 5.0)"
   ]
  },
  {
   "cell_type": "code",
   "execution_count": 13,
   "id": "b810536d-93ee-4637-9162-eed11707bb4e",
   "metadata": {},
   "outputs": [],
   "source": [
    "#queen class"
   ]
  },
  {
   "cell_type": "code",
   "execution_count": null,
   "id": "0d6e6105-47c9-4e16-83b9-ed13f7dff949",
   "metadata": {},
   "outputs": [],
   "source": [
    "class Queen(Piece):\n",
    "    def __init__(self, color):\n",
    "        super().__init__('queen', color, 9.0)"
   ]
  },
  {
   "cell_type": "code",
   "execution_count": 14,
   "id": "6e766e2b-fa71-4525-b0f1-0f8edd3a80b0",
   "metadata": {},
   "outputs": [],
   "source": [
    "#king class"
   ]
  },
  {
   "cell_type": "code",
   "execution_count": null,
   "id": "bb387204-9a45-4360-ac0b-657682f100f0",
   "metadata": {},
   "outputs": [],
   "source": [
    "class King(Piece):\n",
    "    def __init__(self, color):\n",
    "        super().__init__('king', color, 10000.0)"
   ]
  }
 ],
 "metadata": {
  "kernelspec": {
   "display_name": "Python 3 (ipykernel)",
   "language": "python",
   "name": "python3"
  },
  "language_info": {
   "codemirror_mode": {
    "name": "ipython",
    "version": 3
   },
   "file_extension": ".py",
   "mimetype": "text/x-python",
   "name": "python",
   "nbconvert_exporter": "python",
   "pygments_lexer": "ipython3",
   "version": "3.9.13"
  }
 },
 "nbformat": 4,
 "nbformat_minor": 5
}
