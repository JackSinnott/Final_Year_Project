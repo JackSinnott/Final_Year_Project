{
 "cells": [
  {
   "cell_type": "code",
   "execution_count": 1,
   "id": "82fca19b-23b3-4c85-93e3-2531b4d1d7fd",
   "metadata": {},
   "outputs": [],
   "source": [
    "#Square class"
   ]
  },
  {
   "cell_type": "code",
   "execution_count": 2,
   "id": "9eb20fb4-03bf-43cd-b611-c1ba501113af",
   "metadata": {},
   "outputs": [],
   "source": [
    "class Square:\n",
    "\n",
    "    def __init__(self, row, col, piece=None):\n",
    "        self.row = row\n",
    "        self.col = col\n",
    "        self.piece = piece"
   ]
  },
  {
   "cell_type": "code",
   "execution_count": 3,
   "id": "cf5af7bb-4841-4cac-a3ee-561b6df5818d",
   "metadata": {},
   "outputs": [],
   "source": [
    "#is there a piece at the square"
   ]
  },
  {
   "cell_type": "code",
   "execution_count": null,
   "id": "d103c391-a524-4a86-b6f6-97790726ef0d",
   "metadata": {},
   "outputs": [],
   "source": [
    " def has_piece(self):\n",
    "        return self.piece != None"
   ]
  }
 ],
 "metadata": {
  "kernelspec": {
   "display_name": "Python 3 (ipykernel)",
   "language": "python",
   "name": "python3"
  },
  "language_info": {
   "codemirror_mode": {
    "name": "ipython",
    "version": 3
   },
   "file_extension": ".py",
   "mimetype": "text/x-python",
   "name": "python",
   "nbconvert_exporter": "python",
   "pygments_lexer": "ipython3",
   "version": "3.9.13"
  }
 },
 "nbformat": 4,
 "nbformat_minor": 5
}
