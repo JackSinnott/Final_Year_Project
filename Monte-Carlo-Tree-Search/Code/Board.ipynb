{
 "cells": [
  {
   "cell_type": "code",
   "execution_count": 1,
   "id": "66474b25-8515-4008-a437-d8daeee2f20d",
   "metadata": {},
   "outputs": [],
   "source": [
    "#imports"
   ]
  },
  {
   "cell_type": "code",
   "execution_count": 2,
   "id": "136f6224-e4ee-40f3-ad22-4d7d46054a6b",
   "metadata": {},
   "outputs": [],
   "source": [
    "from const import *\n",
    "from square import Square\n",
    "from piece import *"
   ]
  },
  {
   "cell_type": "code",
   "execution_count": 3,
   "id": "9c5f6b3a-b4ba-4f61-ab35-38faab23f64d",
   "metadata": {},
   "outputs": [],
   "source": [
    "#board class"
   ]
  },
  {
   "cell_type": "code",
   "execution_count": 4,
   "id": "8ee04a52-0557-4551-ab41-e9d7207a5a91",
   "metadata": {},
   "outputs": [],
   "source": [
    "class Board:\n",
    "\n",
    "    def __init__(self):\n",
    "        self.squares = [[0, 0, 0, 0, 0, 0, 0, 0] for col in range(COLS)]\n",
    "\n",
    "        self._create()\n",
    "        self._add_pieces('white')\n",
    "        self._add_pieces('black')"
   ]
  },
  {
   "cell_type": "code",
   "execution_count": 5,
   "id": "af621fd1-5867-43f3-a96b-a4428ae42b2e",
   "metadata": {},
   "outputs": [],
   "source": [
    "#arrange the squares"
   ]
  },
  {
   "cell_type": "code",
   "execution_count": 6,
   "id": "0f107c84-cba8-4f97-bbf0-422918298c0f",
   "metadata": {},
   "outputs": [],
   "source": [
    "def _create(self):       \n",
    "        for row in range(ROWS):\n",
    "            for col in range(COLS):\n",
    "                self.squares[row][col] = Square(row, col)"
   ]
  },
  {
   "cell_type": "code",
   "execution_count": null,
   "id": "8dc28265-8427-4696-a4b7-999412f3c80f",
   "metadata": {},
   "outputs": [],
   "source": [
    "#Assign positions for pieces to board"
   ]
  },
  {
   "cell_type": "code",
   "execution_count": null,
   "id": "ea4d1394-a717-476a-b631-d82600413567",
   "metadata": {},
   "outputs": [],
   "source": [
    "def _add_pieces(self, color):\n",
    "        row_pawn, row_other = (6,7) if color == 'white' else (1,0)\n",
    "\n",
    "        # Pawns\n",
    "        for col in range(COLS):\n",
    "            self.squares[row_pawn][col] = Square(row_pawn, col, Pawn(color))\n",
    "\n",
    "        # Knights\n",
    "        self.squares[row_other][1] = Square(row_other, 1, Knight(color))\n",
    "        self.squares[row_other][6] = Square(row_other, 6, Knight(color))\n",
    "\n",
    "        # Bishops\n",
    "        self.squares[row_other][2] = Square(row_other, 2, Bishop(color))\n",
    "        self.squares[row_other][5] = Square(row_other, 5, Bishop(color))\n",
    "\n",
    "        # Rooks\n",
    "        self.squares[row_other][0] = Square(row_other, 0, Rook(color))\n",
    "        self.squares[row_other][7] = Square(row_other, 7, Rook(color))\n",
    "\n",
    "        # Queen\n",
    "        self.squares[row_other][3] = Square(row_other, 3, Queen(color))\n",
    "\n",
    "        # King\n",
    "        self.squares[row_other][4] = Square(row_other, 4, King(color))"
   ]
  }
 ],
 "metadata": {
  "kernelspec": {
   "display_name": "Python 3 (ipykernel)",
   "language": "python",
   "name": "python3"
  },
  "language_info": {
   "codemirror_mode": {
    "name": "ipython",
    "version": 3
   },
   "file_extension": ".py",
   "mimetype": "text/x-python",
   "name": "python",
   "nbconvert_exporter": "python",
   "pygments_lexer": "ipython3",
   "version": "3.9.13"
  }
 },
 "nbformat": 4,
 "nbformat_minor": 5
}
