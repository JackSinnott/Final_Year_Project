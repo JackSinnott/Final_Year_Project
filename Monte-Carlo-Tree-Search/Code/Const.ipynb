{
 "cells": [
  {
   "cell_type": "code",
   "execution_count": 1,
   "id": "c94a8576-20c6-4c4b-8b1f-254745ab7f9d",
   "metadata": {},
   "outputs": [],
   "source": [
    "#screen sizes"
   ]
  },
  {
   "cell_type": "code",
   "execution_count": 2,
   "id": "1f0956c3-0edf-45a8-9388-c559fb00afcb",
   "metadata": {},
   "outputs": [],
   "source": [
    "WIDTH = 800\n",
    "HEIGHT = 800"
   ]
  },
  {
   "cell_type": "code",
   "execution_count": 3,
   "id": "4d7433e3-fa09-4ec3-b255-00b022d6f7fd",
   "metadata": {},
   "outputs": [],
   "source": [
    "# Board sizes"
   ]
  },
  {
   "cell_type": "code",
   "execution_count": null,
   "id": "32417cec-f949-44d9-8122-215e040d5880",
   "metadata": {},
   "outputs": [],
   "source": [
    "ROWS = 8\n",
    "COLS = 8\n",
    "SQSIZE = WIDTH // COLS"
   ]
  }
 ],
 "metadata": {
  "kernelspec": {
   "display_name": "Python 3 (ipykernel)",
   "language": "python",
   "name": "python3"
  },
  "language_info": {
   "codemirror_mode": {
    "name": "ipython",
    "version": 3
   },
   "file_extension": ".py",
   "mimetype": "text/x-python",
   "name": "python",
   "nbconvert_exporter": "python",
   "pygments_lexer": "ipython3",
   "version": "3.9.13"
  }
 },
 "nbformat": 4,
 "nbformat_minor": 5
}
