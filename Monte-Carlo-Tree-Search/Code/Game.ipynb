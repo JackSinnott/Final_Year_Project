{
 "cells": [
  {
   "cell_type": "code",
   "execution_count": 1,
   "id": "4af4cfc6-1d15-44c4-935b-b78146588a17",
   "metadata": {},
   "outputs": [],
   "source": [
    "#imports"
   ]
  },
  {
   "cell_type": "code",
   "execution_count": 2,
   "id": "e6b2b05c-66cb-4df1-ba7e-6fb01e6d7d3e",
   "metadata": {},
   "outputs": [
    {
     "name": "stdout",
     "output_type": "stream",
     "text": [
      "pygame 2.3.0 (SDL 2.24.2, Python 3.9.13)\n",
      "Hello from the pygame community. https://www.pygame.org/contribute.html\n"
     ]
    }
   ],
   "source": [
    "import pygame\n",
    "\n",
    "from const import *\n",
    "from board import Board"
   ]
  },
  {
   "cell_type": "code",
   "execution_count": null,
   "id": "d9d15fd0-d55d-491a-904a-19484cfeae4e",
   "metadata": {},
   "outputs": [],
   "source": [
    "#game class"
   ]
  },
  {
   "cell_type": "code",
   "execution_count": 4,
   "id": "1f960226-5d61-463f-aab4-4a48f53ca945",
   "metadata": {},
   "outputs": [],
   "source": [
    "class Game:\n",
    "    \n",
    "    def __init__(self):\n",
    "        self.board = Board()    "
   ]
  },
  {
   "cell_type": "code",
   "execution_count": null,
   "id": "2dad22c6-dd0e-4195-8fc9-7f8c40115e60",
   "metadata": {},
   "outputs": [],
   "source": [
    "#draw methods"
   ]
  },
  {
   "cell_type": "code",
   "execution_count": null,
   "id": "2d11af48-3e8c-49b9-94e1-1d78d2b38c98",
   "metadata": {},
   "outputs": [],
   "source": [
    "def draw_bg(self, surface):\n",
    "        for row in range(ROWS):\n",
    "            for col in range (COLS):\n",
    "                if (row + col) % 2 == 0:\n",
    "                    color = (234,235,200) # light green\n",
    "                else:\n",
    "                    color = (119,154,88) # dark green\n",
    "\n",
    "                rect = (col * SQSIZE, row * SQSIZE, SQSIZE, SQSIZE)\n",
    "\n",
    "                pygame.draw.rect(surface, color, rect)\n",
    "\n",
    "def draw_pieces(self, surface):\n",
    "        for row in range(ROWS):\n",
    "            for col in range (COLS):\n",
    "                if self.board.squares[row][col].has_piece():\n",
    "                    piece = self.board.squares[row][col].piece\n",
    "\n",
    "                    img = pygame.image.load(piece.texture)\n",
    "                    img_center = col * SQSIZE + SQSIZE // 2, row * SQSIZE + SQSIZE // 2\n",
    "                    piece.texture_rect = img.get_rect(center=img_center)\n",
    "                    surface.blit(img, piece.texture_rect)"
   ]
  }
 ],
 "metadata": {
  "kernelspec": {
   "display_name": "Python 3 (ipykernel)",
   "language": "python",
   "name": "python3"
  },
  "language_info": {
   "codemirror_mode": {
    "name": "ipython",
    "version": 3
   },
   "file_extension": ".py",
   "mimetype": "text/x-python",
   "name": "python",
   "nbconvert_exporter": "python",
   "pygments_lexer": "ipython3",
   "version": "3.9.13"
  }
 },
 "nbformat": 4,
 "nbformat_minor": 5
}
