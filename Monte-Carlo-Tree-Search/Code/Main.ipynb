{
 "cells": [
  {
   "cell_type": "code",
   "execution_count": 1,
   "id": "0c02a99d-18bb-41da-9270-dccadc6470c1",
   "metadata": {},
   "outputs": [],
   "source": [
    "#imports"
   ]
  },
  {
   "cell_type": "code",
   "execution_count": 2,
   "id": "080b9cdb-6245-4af9-8a69-62c2950cfcd0",
   "metadata": {},
   "outputs": [
    {
     "name": "stdout",
     "output_type": "stream",
     "text": [
      "pygame 2.3.0 (SDL 2.24.2, Python 3.9.13)\n",
      "Hello from the pygame community. https://www.pygame.org/contribute.html\n"
     ]
    }
   ],
   "source": [
    "import pygame\n",
    "import sys\n",
    "\n",
    "from const import *\n",
    "from game import Game"
   ]
  },
  {
   "cell_type": "code",
   "execution_count": 3,
   "id": "0a67bb97-a0f3-44d6-b773-07d567af6559",
   "metadata": {},
   "outputs": [],
   "source": [
    "#loop"
   ]
  },
  {
   "cell_type": "code",
   "execution_count": 4,
   "id": "486b1cef-64b7-4d19-bbde-e949348ced7a",
   "metadata": {},
   "outputs": [],
   "source": [
    "class Main:\n",
    "\n",
    "    def __init__(self):\n",
    "        pygame.init()\n",
    "        self.screen = pygame.display.set_mode( (WIDTH, HEIGHT) )\n",
    "        pygame.display.set_caption('Monte Carlo Chess')\n",
    "        self.game = Game()\n",
    "\n",
    "    def mainloop(self):       \n",
    "        game = self.game\n",
    "        screen = self.screen\n",
    "        while True:\n",
    "            game.show_bg(screen)\n",
    "            game.draw_pieces(screen)\n",
    "             \n",
    "            for event in pygame.event.get():\n",
    "                if event.type == pygame.QUIT:\n",
    "                    pygame.quit()\n",
    "                    sys.exit()\n",
    "            \n",
    "\n",
    "            pygame.display.update()"
   ]
  },
  {
   "cell_type": "code",
   "execution_count": 5,
   "id": "c3602466-58be-4bb1-85c8-d4e281154188",
   "metadata": {},
   "outputs": [],
   "source": [
    "#calls"
   ]
  },
  {
   "cell_type": "code",
   "execution_count": null,
   "id": "e705df29-c4fb-45f9-951c-743808545ee9",
   "metadata": {},
   "outputs": [],
   "source": [
    "main = Main()\n",
    "main.mainloop()"
   ]
  }
 ],
 "metadata": {
  "kernelspec": {
   "display_name": "Python 3 (ipykernel)",
   "language": "python",
   "name": "python3"
  },
  "language_info": {
   "codemirror_mode": {
    "name": "ipython",
    "version": 3
   },
   "file_extension": ".py",
   "mimetype": "text/x-python",
   "name": "python",
   "nbconvert_exporter": "python",
   "pygments_lexer": "ipython3",
   "version": "3.9.13"
  }
 },
 "nbformat": 4,
 "nbformat_minor": 5
}
